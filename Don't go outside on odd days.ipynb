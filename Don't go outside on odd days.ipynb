{
 "cells": [
  {
   "cell_type": "markdown",
   "id": "bdb81268",
   "metadata": {},
   "source": [
    "Assingment 1\n",
    "Don't go outside on odd days"
   ]
  },
  {
   "cell_type": "code",
   "execution_count": 10,
   "id": "357f3577",
   "metadata": {},
   "outputs": [
    {
     "name": "stdout",
     "output_type": "stream",
     "text": [
      "[1, 2, 3, 4, 5, 6, 7, 8, 9, 10]\n",
      "Even days: 5\n",
      "Odd days : 5\n"
     ]
    }
   ],
   "source": [
    "numbers = [1, 2, 3, 4, 5, 6, 7, 8, 9, 10]\n",
    "\n",
    "Even_days = 0\n",
    "Odd_days = 0\n",
    "\n",
    "Range= list(numbers)\n",
    "\n",
    "for i in Range:\n",
    "    if i%2==0:\n",
    "         Even_days += 1\n",
    "    else:\n",
    "         Odd_days += 1\n",
    "print(numbers)\n",
    "print(\"Even days:\" , Even_days)\n",
    "print(\"Odd days :\" , Odd_days)"
   ]
  },
  {
   "cell_type": "code",
   "execution_count": null,
   "id": "c3be7f1c",
   "metadata": {},
   "outputs": [],
   "source": []
  }
 ],
 "metadata": {
  "kernelspec": {
   "display_name": "Python 3 (ipykernel)",
   "language": "python",
   "name": "python3"
  },
  "language_info": {
   "codemirror_mode": {
    "name": "ipython",
    "version": 3
   },
   "file_extension": ".py",
   "mimetype": "text/x-python",
   "name": "python",
   "nbconvert_exporter": "python",
   "pygments_lexer": "ipython3",
   "version": "3.9.7"
  }
 },
 "nbformat": 4,
 "nbformat_minor": 5
}
